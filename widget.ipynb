{
 "cells": [
  {
   "cell_type": "code",
   "execution_count": 1,
   "metadata": {},
   "outputs": [
    {
     "data": {
      "text/plain": [
       "25"
      ]
     },
     "execution_count": 1,
     "metadata": {},
     "output_type": "execute_result"
    }
   ],
   "source": [
    "import pandas as pd\n",
    "from sqlalchemy import create_engine\n",
    "\n",
    "\n",
    "\n",
    "# connection details\n",
    "host=\"localhost\"\n",
    "port=\"5432\"\n",
    "database=\"homedb\"\n",
    "user=\"postgres\"\n",
    "password=\"mukisam290\"\n",
    "\n",
    "# Create the connection string (URL format) -> postgres\n",
    "engine_string = f\"postgresql://{user}:{password}@{host}:{port}/{database}\"\n",
    "\n",
    "\n",
    "# Create the SQLAlchemy engine\n",
    "engine = create_engine(engine_string)\n",
    "\n",
    "# giving the data into a csv format\n",
    "\n",
    "data = pd.read_csv('astc_bus_details.csv')\n",
    "\n",
    "# Table name where you want to push the data\n",
    "table_name = \"bus\"\n",
    "\n",
    "# Push the DataFrame to the PostgreSQL table\n",
    "data.to_sql(table_name, engine,if_exists='append', index=False)  #['fail', 'replace', 'append']\n"
   ]
  },
  {
   "cell_type": "code",
   "execution_count": 2,
   "metadata": {},
   "outputs": [
    {
     "data": {
      "text/plain": [
       "243"
      ]
     },
     "execution_count": 2,
     "metadata": {},
     "output_type": "execute_result"
    }
   ],
   "source": [
    "import pandas as pd\n",
    "from sqlalchemy import create_engine\n",
    "\n",
    "\n",
    "\n",
    "#  connection details\n",
    "host=\"localhost\"\n",
    "port=\"5432\"\n",
    "database=\"homedb\"\n",
    "user=\"postgres\"\n",
    "password=\"mukisam290\"\n",
    "\n",
    "# Create the connection string (URL format) -> postgres\n",
    "engine_string = f\"postgresql://{user}:{password}@{host}:{port}/{database}\"\n",
    "\n",
    "\n",
    "\n",
    "# Create the SQLAlchemy engine\n",
    "engine = create_engine(engine_string)\n",
    "\n",
    "# giving the data into csv format\n",
    "\n",
    "data = pd.read_csv('bsrtc_bus_details.csv')\n",
    "\n",
    "# Table name where you want to push the data\n",
    "table_name = \"bus\"\n",
    "\n",
    "# Push the DataFrame to the PostgreSQL table\n",
    "data.to_sql(table_name, engine,if_exists='append', index=False)  #['fail', 'replace', 'append']\n",
    "\n"
   ]
  },
  {
   "cell_type": "code",
   "execution_count": 3,
   "metadata": {},
   "outputs": [
    {
     "data": {
      "text/plain": [
       "549"
      ]
     },
     "execution_count": 3,
     "metadata": {},
     "output_type": "execute_result"
    }
   ],
   "source": [
    "import pandas as pd\n",
    "from sqlalchemy import create_engine\n",
    "\n",
    "\n",
    "\n",
    "\n",
    "# connection details\n",
    "host=\"localhost\"\n",
    "port=\"5432\"\n",
    "database=\"homedb\"\n",
    "user=\"postgres\"\n",
    "password=\"mukisam290\"\n",
    "\n",
    "# Create the connection string (URL format) -> postgres\n",
    "engine_string = f\"postgresql://{user}:{password}@{host}:{port}/{database}\"\n",
    "\n",
    "\n",
    "\n",
    "# Create the SQLAlchemy engine\n",
    "engine = create_engine(engine_string)\n",
    "\n",
    "# give data into a csv format\n",
    "\n",
    "data = pd.read_csv('hrtc_bus_details.csv')\n",
    "\n",
    "# Table name where you want to push the data\n",
    "table_name = \"bus\"\n",
    "\n",
    "# Push the DataFrame to the PostgreSQL table\n",
    "data.to_sql(table_name, engine,if_exists='append', index=False)  #['fail', 'replace', 'append']\n",
    "\n"
   ]
  },
  {
   "cell_type": "code",
   "execution_count": 4,
   "metadata": {},
   "outputs": [
    {
     "data": {
      "text/plain": [
       "15"
      ]
     },
     "execution_count": 4,
     "metadata": {},
     "output_type": "execute_result"
    }
   ],
   "source": [
    "import pandas as pd\n",
    "from sqlalchemy import create_engine\n",
    "\n",
    "\n",
    "\n",
    "# connection details\n",
    "host=\"localhost\"\n",
    "port=\"5432\"\n",
    "database=\"homedb\"\n",
    "user=\"postgres\"\n",
    "password=\"mukisam290\"\n",
    "\n",
    "# Create the connection string (URL format) -> postgres\n",
    "engine_string = f\"postgresql://{user}:{password}@{host}:{port}/{database}\"\n",
    "\n",
    "\n",
    "# Create the SQLAlchemy engine\n",
    "engine = create_engine(engine_string)\n",
    "\n",
    "# giving the data into csv format\n",
    "\n",
    "data = pd.read_csv('jksrtc_bus_details.csv')\n",
    "\n",
    "# Table name where you want to push the data\n",
    "table_name = \"bus\"\n",
    "\n",
    "# Push the DataFrame to the PostgreSQL table\n",
    "data.to_sql(table_name, engine,if_exists='append', index=False)  #['fail', 'replace', 'append']"
   ]
  },
  {
   "cell_type": "code",
   "execution_count": 5,
   "metadata": {},
   "outputs": [
    {
     "data": {
      "text/plain": [
       "507"
      ]
     },
     "execution_count": 5,
     "metadata": {},
     "output_type": "execute_result"
    }
   ],
   "source": [
    "import pandas as pd\n",
    "from sqlalchemy import create_engine\n",
    "\n",
    "\n",
    "\n",
    "#  connection details\n",
    "host=\"localhost\"\n",
    "port=\"5432\"\n",
    "database=\"homedb\"\n",
    "user=\"postgres\"\n",
    "password=\"mukisam290\"\n",
    "\n",
    "# Create the connection string (URL format) -> postgres\n",
    "engine_string = f\"postgresql://{user}:{password}@{host}:{port}/{database}\"\n",
    "\n",
    "\n",
    "# Create the SQLAlchemy engine\n",
    "engine = create_engine(engine_string)\n",
    "\n",
    "# giving the data into csv format\n",
    "\n",
    "data = pd.read_csv('ksrtc_bus_details.csv')\n",
    "\n",
    "# Table name where you want to push the data\n",
    "table_name = \"bus\"\n",
    "\n",
    "# Push the DataFrame to the PostgreSQL table\n",
    "data.to_sql(table_name, engine,if_exists='append', index=False)  #['fail', 'replace', 'append']\n",
    "\n"
   ]
  },
  {
   "cell_type": "code",
   "execution_count": 6,
   "metadata": {},
   "outputs": [
    {
     "data": {
      "text/plain": [
       "343"
      ]
     },
     "execution_count": 6,
     "metadata": {},
     "output_type": "execute_result"
    }
   ],
   "source": [
    "import pandas as pd\n",
    "from sqlalchemy import create_engine\n",
    "\n",
    "\n",
    "\n",
    "# connection details\n",
    "host=\"localhost\"\n",
    "port=\"5432\"\n",
    "database=\"homedb\"\n",
    "user=\"postgres\"\n",
    "password=\"mukisam290\"\n",
    "\n",
    "# Create the connection string (URL format) -> postgres\n",
    "engine_string = f\"postgresql://{user}:{password}@{host}:{port}/{database}\"\n",
    "\n",
    "\n",
    "# Create the SQLAlchemy engine\n",
    "engine = create_engine(engine_string)\n",
    "\n",
    "#giving the data into csv file\n",
    "\n",
    "data = pd.read_csv('ktcl_bus_details.csv')\n",
    "\n",
    "# Table name where you want to push the data\n",
    "table_name = \"bus\"\n",
    "\n",
    "# Push the DataFrame to the PostgreSQL table\n",
    "data.to_sql(table_name, engine,if_exists='append', index=False)  #['fail', 'replace', 'append']\n"
   ]
  },
  {
   "cell_type": "code",
   "execution_count": 7,
   "metadata": {},
   "outputs": [
    {
     "data": {
      "text/plain": [
       "253"
      ]
     },
     "execution_count": 7,
     "metadata": {},
     "output_type": "execute_result"
    }
   ],
   "source": [
    "import pandas as pd\n",
    "from sqlalchemy import create_engine\n",
    "\n",
    "\n",
    "\n",
    "# connection details\n",
    "host=\"localhost\"\n",
    "port=\"5432\"\n",
    "database=\"homedb\"\n",
    "user=\"postgres\"\n",
    "password=\"mukisam290\"\n",
    "\n",
    "\n",
    "# Create the connection string (URL format) -> postgres\n",
    "engine_string = f\"postgresql://{user}:{password}@{host}:{port}/{database}\"\n",
    "\n",
    "\n",
    "# Create the SQLAlchemy engine\n",
    "engine = create_engine(engine_string)\n",
    "\n",
    "# giving the data into csv file\n",
    "data = pd.read_csv('nbstc_bus_details.csv')\n",
    "\n",
    "# Table name where you want to push the data\n",
    "table_name = \"bus\"\n",
    "\n",
    "# Push the DataFrame to the PostgreSQL table\n",
    "data.to_sql(table_name, engine,if_exists='append', index=False)  #['fail', 'replace', 'append']\n",
    "\n"
   ]
  },
  {
   "cell_type": "code",
   "execution_count": 8,
   "metadata": {},
   "outputs": [
    {
     "data": {
      "text/plain": [
       "531"
      ]
     },
     "execution_count": 8,
     "metadata": {},
     "output_type": "execute_result"
    }
   ],
   "source": [
    "import pandas as pd\n",
    "from sqlalchemy import create_engine\n",
    "\n",
    "\n",
    "\n",
    "# connection details\n",
    "host=\"localhost\"\n",
    "port=\"5432\"\n",
    "database=\"homedb\"\n",
    "user=\"postgres\"\n",
    "password=\"mukisam290\"\n",
    "\n",
    "# Create the connection string (URL format) -> postgres\n",
    "engine_string = f\"postgresql://{user}:{password}@{host}:{port}/{database}\"\n",
    "\n",
    "\n",
    "# Create the SQLAlchemy engine\n",
    "engine = create_engine(engine_string)\n",
    "\n",
    "# giving the data into csv file\n",
    "\n",
    "data = pd.read_csv('pepsu_bus_details.csv')\n",
    "\n",
    "# Table name where you want to push the data\n",
    "table_name = \"bus\"\n",
    "\n",
    "# Push the DataFrame to the PostgreSQL table\n",
    "data.to_sql(table_name, engine,if_exists='append', index=False)  #['fail', 'replace', 'append']\n"
   ]
  },
  {
   "cell_type": "code",
   "execution_count": 9,
   "metadata": {},
   "outputs": [
    {
     "data": {
      "text/plain": [
       "584"
      ]
     },
     "execution_count": 9,
     "metadata": {},
     "output_type": "execute_result"
    }
   ],
   "source": [
    "import pandas as pd\n",
    "from sqlalchemy import create_engine\n",
    "\n",
    "\n",
    "\n",
    "# connection details\n",
    "host=\"localhost\"\n",
    "port=\"5432\"\n",
    "database=\"homedb\"\n",
    "user=\"postgres\"\n",
    "password=\"mukisam290\"\n",
    "\n",
    "# Create the connection string (URL format) -> postgres\n",
    "engine_string = f\"postgresql://{user}:{password}@{host}:{port}/{database}\"\n",
    "\n",
    "\n",
    "# Create the SQLAlchemy engine\n",
    "engine = create_engine(engine_string)\n",
    "\n",
    "# giving the data into csv file\n",
    "data = pd.read_csv('rsrtc_bus_details.csv')\n",
    "\n",
    "# Table name where you want to push the data\n",
    "table_name = \"bus\"\n",
    "\n",
    "# Push the DataFrame to the PostgreSQL table\n",
    "data.to_sql(table_name, engine,if_exists='append', index=False)  #['fail', 'replace', 'append']\n",
    "\n"
   ]
  },
  {
   "cell_type": "code",
   "execution_count": 10,
   "metadata": {},
   "outputs": [
    {
     "data": {
      "text/plain": [
       "989"
      ]
     },
     "execution_count": 10,
     "metadata": {},
     "output_type": "execute_result"
    }
   ],
   "source": [
    "import pandas as pd\n",
    "from sqlalchemy import create_engine\n",
    "\n",
    "\n",
    "\n",
    "# Replace with your connection details\n",
    "host=\"localhost\"\n",
    "port=\"5432\"\n",
    "database=\"homedb\"\n",
    "user=\"postgres\"\n",
    "password=\"mukisam290\"\n",
    "\n",
    "# Create the connection string (URL format) -> postgres\n",
    "engine_string = f\"postgresql://{user}:{password}@{host}:{port}/{database}\"\n",
    "\n",
    "\n",
    "# Create the SQLAlchemy engine\n",
    "engine = create_engine(engine_string)\n",
    "\n",
    "# giving the data into csv file\n",
    "\n",
    "data = pd.read_csv(\"upsrtc_bus_details.csv\")\n",
    "\n",
    "# Table name where you want to push the data\n",
    "table_name = \"bus\"\n",
    "\n",
    "# Push the DataFrame to the PostgreSQL table\n",
    "data.to_sql(table_name, engine,if_exists='append', index=False)  #['fail', 'replace', 'append']\n",
    "\n"
   ]
  }
 ],
 "metadata": {
  "kernelspec": {
   "display_name": ".venv",
   "language": "python",
   "name": "python3"
  },
  "language_info": {
   "codemirror_mode": {
    "name": "ipython",
    "version": 3
   },
   "file_extension": ".py",
   "mimetype": "text/x-python",
   "name": "python",
   "nbconvert_exporter": "python",
   "pygments_lexer": "ipython3",
   "version": "3.12.4"
  }
 },
 "nbformat": 4,
 "nbformat_minor": 2
}
